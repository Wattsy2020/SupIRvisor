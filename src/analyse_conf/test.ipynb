{
 "cells": [
  {
   "cell_type": "code",
   "execution_count": 4,
   "metadata": {},
   "outputs": [],
   "source": [
    "from analyse_conf.author_info import SemanticScholarQuerier"
   ]
  },
  {
   "cell_type": "code",
   "execution_count": 5,
   "metadata": {},
   "outputs": [
    {
     "ename": "KeyError",
     "evalue": "'authors'",
     "output_type": "error",
     "traceback": [
      "\u001b[0;31m---------------------------------------------------------------------------\u001b[0m",
      "\u001b[0;31mKeyError\u001b[0m                                  Traceback (most recent call last)",
      "Cell \u001b[0;32mIn [5], line 2\u001b[0m\n\u001b[1;32m      1\u001b[0m \u001b[38;5;28;01mwith\u001b[39;00m SemanticScholarQuerier() \u001b[38;5;28;01mas\u001b[39;00m query_engine:\n\u001b[0;32m----> 2\u001b[0m     \u001b[43mquery_engine\u001b[49m\u001b[38;5;241;43m.\u001b[39;49m\u001b[43msearch_author\u001b[49m\u001b[43m(\u001b[49m\u001b[38;5;124;43m\"\u001b[39;49m\u001b[38;5;124;43mOren Etzioni\u001b[39;49m\u001b[38;5;124;43m\"\u001b[39;49m\u001b[43m,\u001b[49m\u001b[43m \u001b[49m\u001b[43m{\u001b[49m\u001b[43m}\u001b[49m\u001b[43m)\u001b[49m\n",
      "File \u001b[0;32m~/Documents/SupIRvisor/src/analyse_conf/author_info.py:157\u001b[0m, in \u001b[0;36mSemanticScholarQuerier.search_author\u001b[0;34m(self, author_name, paper_json)\u001b[0m\n\u001b[1;32m    151\u001b[0m \u001b[39mdef\u001b[39;00m \u001b[39msearch_author\u001b[39m(\u001b[39mself\u001b[39m, author_name: \u001b[39mstr\u001b[39m, paper_json: \u001b[39mdict\u001b[39m[\u001b[39mstr\u001b[39m, Any]) \u001b[39m-\u001b[39m\u001b[39m>\u001b[39m Optional[\u001b[39mstr\u001b[39m]:\n\u001b[1;32m    152\u001b[0m     \u001b[39m\"\"\"\u001b[39;00m\n\u001b[1;32m    153\u001b[0m \u001b[39m    Given an author name return the correct authorId, by finding the authorId that wrote papers with the given co_authors\u001b[39;00m\n\u001b[1;32m    154\u001b[0m \u001b[39m    \u001b[39;00m\n\u001b[1;32m    155\u001b[0m \u001b[39m    If there are no search results from the API this returns none\u001b[39;00m\n\u001b[1;32m    156\u001b[0m \u001b[39m    \"\"\"\u001b[39;00m\n\u001b[0;32m--> 157\u001b[0m     co_author_ids \u001b[39m=\u001b[39m {author_json[\u001b[39m\"\u001b[39m\u001b[39mauthorId\u001b[39m\u001b[39m\"\u001b[39m] \u001b[39mfor\u001b[39;00m author_json \u001b[39min\u001b[39;00m paper_json[\u001b[39m\"\u001b[39;49m\u001b[39mauthors\u001b[39;49m\u001b[39m\"\u001b[39;49m]}\n\u001b[1;32m    158\u001b[0m     author_name \u001b[39m=\u001b[39m \u001b[39mself\u001b[39m\u001b[39m.\u001b[39m__clean_query(author_name)\n\u001b[1;32m    159\u001b[0m     retrieved_authors \u001b[39m=\u001b[39m \u001b[39mself\u001b[39m\u001b[39m.\u001b[39m__get_json(\u001b[39mf\u001b[39m\u001b[39m\"\u001b[39m\u001b[39mauthor/search?query=\u001b[39m\u001b[39m{\u001b[39;00mauthor_name\u001b[39m}\u001b[39;00m\u001b[39m&fields=papers.authors&limit=20\u001b[39m\u001b[39m\"\u001b[39m)\n",
      "\u001b[0;31mKeyError\u001b[0m: 'authors'"
     ]
    }
   ],
   "source": [
    "with SemanticScholarQuerier() as query_engine:\n",
    "    query_engine.search_author(\"Oren Etzioni\", {\"authors\": [{\"authorId\": 1}]})"
   ]
  },
  {
   "cell_type": "code",
   "execution_count": null,
   "metadata": {},
   "outputs": [],
   "source": []
  }
 ],
 "metadata": {
  "kernelspec": {
   "display_name": "Python 3.10.6 64-bit",
   "language": "python",
   "name": "python3"
  },
  "language_info": {
   "codemirror_mode": {
    "name": "ipython",
    "version": 3
   },
   "file_extension": ".py",
   "mimetype": "text/x-python",
   "name": "python",
   "nbconvert_exporter": "python",
   "pygments_lexer": "ipython3",
   "version": "3.10.6"
  },
  "orig_nbformat": 4,
  "vscode": {
   "interpreter": {
    "hash": "aee8b7b246df8f9039afb4144a1f6fd8d2ca17a180786b69acc140d282b71a49"
   }
  }
 },
 "nbformat": 4,
 "nbformat_minor": 2
}
